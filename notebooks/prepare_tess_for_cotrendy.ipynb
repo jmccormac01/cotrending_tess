{
 "cells": [
  {
   "cell_type": "markdown",
   "metadata": {},
   "source": [
    "# Prepare TESS data for Cotrendy\n",
    "\n",
    "Take in a list of TESS data from Sam's FFI analysis and make the pickled inputs for Cotrendy"
   ]
  },
  {
   "cell_type": "code",
   "execution_count": 3,
   "metadata": {},
   "outputs": [],
   "source": [
    "%matplotlib inline\n",
    "import pickle\n",
    "import numpy as np\n",
    "import glob as g\n",
    "import os\n",
    "from astropy.io import fits\n",
    "import matplotlib.pyplot as plt"
   ]
  },
  {
   "cell_type": "code",
   "execution_count": 4,
   "metadata": {},
   "outputs": [],
   "source": [
    "def picklify(pickle_file, pickle_object):     \n",
    "    \"\"\"                                       \n",
    "    Take an object and pickle it for later use\n",
    "    \"\"\"                                       \n",
    "    of = open(pickle_file, 'wb')              \n",
    "    pickle.dump(pickle_object, of)            \n",
    "    of.close()  "
   ]
  },
  {
   "cell_type": "code",
   "execution_count": 5,
   "metadata": {},
   "outputs": [],
   "source": [
    "data_dir = \"/Users/jmcc/Dropbox/PythonScripts/TESS/mono_example_data\"\n",
    "\n",
    "mask_file = f\"{data_dir}/S05_mask.fits\"\n",
    "m = fits.open(mask_file)\n",
    "mask = m[1].data['MASK']\n",
    "\n",
    "cat_file = f\"{data_dir}/S05_1-1.fits\"\n",
    "cat = fits.open(cat_file)[1].data\n",
    "\n",
    "os.chdir(data_dir)\n",
    "tic_files = sorted(g.glob('TIC-*.fits'))\n",
    "\n",
    "fluxes_to_trendy, ras, decs, mags = [], [], [], [] \n",
    "neg_fluxes = []\n",
    "dilutions = []\n",
    "tic_files_kept = []\n",
    "\n",
    "for tic_file in tic_files:\n",
    "    \n",
    "    tic_id = int(tic_file.split('.fits')[0].split('-')[1])\n",
    "    \n",
    "    h = fits.open(tic_file)[1].data\n",
    "    flux = h['AP2.5'][mask]\n",
    "    sky = h['SKY_MEDIAN'][mask] * np.pi * (2.5**2)\n",
    "    flux_corr = flux - sky\n",
    "    neg = np.sum([flux_corr<0])\n",
    "    if neg == 0:\n",
    "        # make a catalog cut first\n",
    "        # get the catalog info for pickle file\n",
    "        row_in_cat = np.where(cat['TIC_ID'] == tic_id)[0]\n",
    "        \n",
    "        ra = cat['RA'][row_in_cat][0]\n",
    "        dec = cat['DEC'][row_in_cat][0]\n",
    "        mag = cat['Tmag'][row_in_cat][0]\n",
    "        \n",
    "        # the finat ones slow everything down and likely don't correlate well anyway\n",
    "        # try removing them and see what the CBVs look like. \n",
    "        if mag > 8 and mag < 12.0:\n",
    "            ras.append(ra)\n",
    "            decs.append(dec)\n",
    "            mags.append(mag)\n",
    "            tic_files_kept.append(tic_file)\n",
    "            fluxes_to_trendy.append(flux_corr)\n",
    "            times0 = int(h['BJD'][mask][0])\n",
    "            times = h['BJD'][mask] - times0\n",
    "    else:\n",
    "        neg_fluxes.append(tic_file)\n",
    "            \n",
    "fluxes_to_trendy = np.array(fluxes_to_trendy)"
   ]
  },
  {
   "cell_type": "code",
   "execution_count": null,
   "metadata": {},
   "outputs": [],
   "source": [
    "fig, ax = plt.subplots(3, figsize=(10, 10))\n",
    "ax[0].hist(ras, bins=100)\n",
    "ax[1].hist(decs, bins=100)\n",
    "ax[2].hist(mags, bins=100)\n",
    "plt.show()"
   ]
  },
  {
   "cell_type": "code",
   "execution_count": 6,
   "metadata": {},
   "outputs": [
    {
     "data": {
      "text/plain": [
       "['TIC-10996672.fits',\n",
       " 'TIC-248620783.fits',\n",
       " 'TIC-248657949.fits',\n",
       " 'TIC-250135660.fits',\n",
       " 'TIC-34362037.fits',\n",
       " 'TIC-454140671.fits',\n",
       " 'TIC-454140677.fits',\n",
       " 'TIC-454140679.fits',\n",
       " 'TIC-454143519.fits',\n",
       " 'TIC-454154422.fits',\n",
       " 'TIC-9236522.fits']"
      ]
     },
     "execution_count": 6,
     "metadata": {},
     "output_type": "execute_result"
    }
   ],
   "source": [
    "neg_fluxes"
   ]
  },
  {
   "cell_type": "code",
   "execution_count": null,
   "metadata": {},
   "outputs": [],
   "source": [
    "tic_files_kept.index('TIC-459932301.fits')"
   ]
  },
  {
   "cell_type": "code",
   "execution_count": null,
   "metadata": {},
   "outputs": [],
   "source": [
    "tic_files_kept.index('TIC-9161351.fits')"
   ]
  },
  {
   "cell_type": "code",
   "execution_count": null,
   "metadata": {},
   "outputs": [],
   "source": [
    "# pickle the outputs\n",
    "picklify('tess_s05_times.pkl', times)\n",
    "picklify('tess_s05_fluxes.pkl', fluxes_to_trendy)\n",
    "picklify('tess_s05_errors.pkl', np.sqrt(fluxes_to_trendy))\n",
    "\n",
    "# pickle the catalog into a 2D numpy array\n",
    "picklify('tess_s05_cat.pkl', np.array([ras, decs, mags]))\n"
   ]
  },
  {
   "cell_type": "code",
   "execution_count": null,
   "metadata": {},
   "outputs": [],
   "source": [
    "def depicklify(pickle_file):                   \n",
    "    \"\"\"                                        \n",
    "    Take a pickled file and return the object  \n",
    "    \"\"\"                                        \n",
    "    try:                                       \n",
    "        of = open(pickle_file, 'rb')           \n",
    "        res = pickle.load(of)                  \n",
    "        of.close()                             \n",
    "    except FileNotFoundError:                  \n",
    "        res = None                             \n",
    "    return res                                 "
   ]
  },
  {
   "cell_type": "code",
   "execution_count": null,
   "metadata": {},
   "outputs": [],
   "source": [
    "time_dp = depicklify('tess_s05_times.pkl')\n",
    "fluxes_dp = depicklify('tess_s05_fluxes.pkl')\n",
    "errors_dp = depicklify('tess_s05_errors.pkl')"
   ]
  },
  {
   "cell_type": "code",
   "execution_count": null,
   "metadata": {},
   "outputs": [],
   "source": [
    "time_dp"
   ]
  },
  {
   "cell_type": "code",
   "execution_count": null,
   "metadata": {},
   "outputs": [],
   "source": [
    "fluxes_dp"
   ]
  },
  {
   "cell_type": "code",
   "execution_count": null,
   "metadata": {},
   "outputs": [],
   "source": [
    "errors_dp"
   ]
  },
  {
   "cell_type": "code",
   "execution_count": null,
   "metadata": {},
   "outputs": [],
   "source": [
    "picklify('tic_ids_kept.pkl', tic_files_kept)"
   ]
  },
  {
   "cell_type": "code",
   "execution_count": null,
   "metadata": {},
   "outputs": [],
   "source": []
  }
 ],
 "metadata": {
  "kernelspec": {
   "display_name": "Python 3",
   "language": "python",
   "name": "python3"
  },
  "language_info": {
   "codemirror_mode": {
    "name": "ipython",
    "version": 3
   },
   "file_extension": ".py",
   "mimetype": "text/x-python",
   "name": "python",
   "nbconvert_exporter": "python",
   "pygments_lexer": "ipython3",
   "version": "3.7.6"
  }
 },
 "nbformat": 4,
 "nbformat_minor": 4
}
